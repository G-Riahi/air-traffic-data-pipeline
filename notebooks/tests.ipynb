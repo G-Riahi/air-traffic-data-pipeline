{
 "cells": [
  {
   "cell_type": "code",
   "execution_count": 9,
   "id": "dfee11f1",
   "metadata": {},
   "outputs": [
    {
     "name": "stdout",
     "output_type": "stream",
     "text": [
      "+--------------------+----------+\n",
      "|              states|      time|\n",
      "+--------------------+----------+\n",
      "|[[39de41, TVF73KZ...|1750334097|\n",
      "+--------------------+----------+\n",
      "\n"
     ]
    }
   ],
   "source": [
    "from pyspark.sql import SparkSession\n",
    "import requests\n",
    "import json\n",
    "\n",
    "with open('/home/gesser/air-traffic-data-pipeline/credentials.json') as f:\n",
    "    creds = json.load(f)\n",
    "\n",
    "client_id = creds.get(\"clientId\")\n",
    "client_secret = creds.get(\"clientSecret\")\n",
    "\n",
    "if not client_id or not client_secret:\n",
    "    raise ValueError(\"Set CLIENT_ID and CLIENT_SECRET environment variables before running.\")\n",
    "\n",
    "token_url = \"https://auth.opensky-network.org/auth/realms/opensky-network/protocol/openid-connect/token\"\n",
    "\n",
    "payload = {\n",
    "    \"grant_type\": \"client_credentials\",\n",
    "    \"client_id\": client_id,\n",
    "    \"client_secret\": client_secret\n",
    "}\n",
    "\n",
    "headers = {\n",
    "    \"Content-Type\": \"application/x-www-form-urlencoded\"\n",
    "}\n",
    "\n",
    "response = requests.post(token_url, data=payload, headers=headers)\n",
    "response.raise_for_status()\n",
    "\n",
    "access_token = response.json().get(\"access_token\")\n",
    "\n",
    "#print(f\"Access token: {access_token}\")\n",
    "\n",
    "url = \"https://opensky-network.org/api/states/all\"\n",
    "params = {\n",
    "    \"lamin\": 45.8389,\n",
    "    \"lomin\": 5.9962,\n",
    "    \"lamax\": 47.8229,\n",
    "    \"lomax\": 10.5226\n",
    "}\n",
    "\n",
    "headers = {\n",
    "    \"Authorization\": f\"Bearer {access_token}\"\n",
    "}\n",
    "\n",
    "response = requests.get(url, headers=headers, params=params)\n",
    "response.raise_for_status()  # raise error if request failed\n",
    "\n",
    "data = response.json()\n",
    "\n",
    "if response.status_code == 200:\n",
    "    data_json = response.text\n",
    "\n",
    "    spark = SparkSession.builder.appName(\"flight-data-pipeline\").getOrCreate()\n",
    "\n",
    "    # Create RDD from JSON string (split by lines if multiline JSON)\n",
    "    rdd = spark.sparkContext.parallelize([data_json])\n",
    "\n",
    "    # Read JSON from RDD\n",
    "    df = spark.read.json(rdd)\n",
    "\n",
    "    df.show()\n",
    "\n",
    "    spark.stop()\n",
    "else:\n",
    "    print(f\"Error: {response.status_code} - {response.text}\")\n"
   ]
  }
 ],
 "metadata": {
  "kernelspec": {
   "display_name": "data",
   "language": "python",
   "name": "python3"
  },
  "language_info": {
   "codemirror_mode": {
    "name": "ipython",
    "version": 3
   },
   "file_extension": ".py",
   "mimetype": "text/x-python",
   "name": "python",
   "nbconvert_exporter": "python",
   "pygments_lexer": "ipython3",
   "version": "3.12.3"
  }
 },
 "nbformat": 4,
 "nbformat_minor": 5
}
