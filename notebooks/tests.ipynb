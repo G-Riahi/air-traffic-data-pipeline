{
 "cells": [
  {
   "cell_type": "code",
   "execution_count": null,
   "id": "a42b93a2",
   "metadata": {},
   "outputs": [],
   "source": [
    "from pyspark.sql import SparkSession\n",
    "\n",
    "spark = SparkSession.builder.appName(\"flight-data-pipeline\").getOrCreate()\n",
    "\n",
    "df = spark.read.json(\"flights.json\")\n",
    "df.show()"
   ]
  }
 ],
 "metadata": {
  "kernelspec": {
   "display_name": "Python 3",
   "language": "python",
   "name": "python3"
  },
  "language_info": {
   "name": "python",
   "version": "3.12.3"
  }
 },
 "nbformat": 4,
 "nbformat_minor": 5
}
